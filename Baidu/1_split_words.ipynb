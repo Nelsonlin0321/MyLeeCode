{
 "cells": [
  {
   "cell_type": "code",
   "execution_count": 12,
   "metadata": {},
   "outputs": [
    {
     "data": {
      "text/plain": [
       "['y', 'o', 'u', 'hey', 'm', 'a', 'y', 'hello', 'good', 'w', 'o', 'r', 'l', 'd']"
      ]
     },
     "execution_count": 12,
     "metadata": {},
     "output_type": "execute_result"
    }
   ],
   "source": [
    "#### 百度 NLP研发工程师面试题：根据词典进行分词\n",
    "# 双指正问题\n",
    "class Solution:\n",
    "    def splitWords(self, word_dict,string):\n",
    "        left = 0\n",
    "        right = len(string)\n",
    "        res = []\n",
    "        while(left<right):\n",
    "            sub_string = string[left:right]\n",
    "            if sub_string in word_dict:\n",
    "                left = right\n",
    "                right = len(string)\n",
    "                res.append(sub_string)\n",
    "            elif len(sub_string)==1:\n",
    "                left+=1\n",
    "                right = len(string)\n",
    "                res.append(sub_string)\n",
    "            else:\n",
    "                right-=1\n",
    "        return res\n",
    "\n",
    "word_dict = {'hello':3,'good':4,'say':8,'hey':1} # \n",
    "\n",
    "string = \"youheymayhellogoodworld\"\n",
    "\n",
    "solution = Solution()\n",
    "\n",
    "solution.splitWords(word_dict,string)"
   ]
  },
  {
   "cell_type": "code",
   "execution_count": null,
   "metadata": {},
   "outputs": [],
   "source": []
  }
 ],
 "metadata": {
  "kernelspec": {
   "display_name": "Python 3",
   "language": "python",
   "name": "python3"
  },
  "language_info": {
   "codemirror_mode": {
    "name": "ipython",
    "version": 3
   },
   "file_extension": ".py",
   "mimetype": "text/x-python",
   "name": "python",
   "nbconvert_exporter": "python",
   "pygments_lexer": "ipython3",
   "version": "3.8.3"
  }
 },
 "nbformat": 4,
 "nbformat_minor": 4
}
